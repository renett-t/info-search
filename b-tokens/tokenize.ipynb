{
 "cells": [
  {
   "cell_type": "code",
   "execution_count": 1,
   "id": "aef97ead",
   "metadata": {},
   "outputs": [],
   "source": [
    "import pandas as pd\n",
    "import os\n",
    "from glob import glob"
   ]
  },
  {
   "cell_type": "code",
   "execution_count": 2,
   "id": "11a2faed",
   "metadata": {},
   "outputs": [
    {
     "name": "stdout",
     "output_type": "stream",
     "text": [
      "Russian websites amount:195\n",
      "English websites amount:565\n"
     ]
    }
   ],
   "source": [
    "RU_WEBS_DIR = \"./pages-arch/pages-arch/ru\"\n",
    "EN_WEBS_DIR = \"./pages-arch/pages-arch/en\"\n",
    "\n",
    "ru_webs_pl = glob(f\"{RU_WEBS_DIR}/**.html\")\n",
    "en_webs_pl = glob(f\"{EN_WEBS_DIR}/**.html\")\n",
    "print(f\"Russian websites amount:{len(ru_webs_pl)}\")\n",
    "print(f\"English websites amount:{len(en_webs_pl)}\")"
   ]
  },
  {
   "cell_type": "code",
   "execution_count": 3,
   "id": "bcac2796",
   "metadata": {},
   "outputs": [],
   "source": [
    "raw_ru = []\n",
    "raw_en = []\n",
    "\n",
    "for pl in ru_webs_pl:\n",
    "    with open(pl, \"r\") as f:\n",
    "        raw_ru.append(f.read())\n",
    "for pl in en_webs_pl:\n",
    "    with open(pl, \"r\") as f:\n",
    "        raw_en.append(f.read())     "
   ]
  },
  {
   "cell_type": "code",
   "execution_count": 4,
   "id": "260cdcca",
   "metadata": {
    "scrolled": false
   },
   "outputs": [
    {
     "data": {
      "text/html": [
       "<div>\n",
       "<style scoped>\n",
       "    .dataframe tbody tr th:only-of-type {\n",
       "        vertical-align: middle;\n",
       "    }\n",
       "\n",
       "    .dataframe tbody tr th {\n",
       "        vertical-align: top;\n",
       "    }\n",
       "\n",
       "    .dataframe thead th {\n",
       "        text-align: right;\n",
       "    }\n",
       "</style>\n",
       "<table border=\"1\" class=\"dataframe\">\n",
       "  <thead>\n",
       "    <tr style=\"text-align: right;\">\n",
       "      <th></th>\n",
       "      <th>raw</th>\n",
       "      <th>lang</th>\n",
       "    </tr>\n",
       "  </thead>\n",
       "  <tbody>\n",
       "    <tr>\n",
       "      <th>0</th>\n",
       "      <td>&lt;!doctype html&gt;\\n&lt;html data-n-head-ssr lang=\"r...</td>\n",
       "      <td>RU</td>\n",
       "    </tr>\n",
       "    <tr>\n",
       "      <th>1</th>\n",
       "      <td>&lt;!doctype html&gt;&lt;html class=\"hcfe\" data-page-ty...</td>\n",
       "      <td>RU</td>\n",
       "    </tr>\n",
       "    <tr>\n",
       "      <th>2</th>\n",
       "      <td>&lt;!doctype html&gt;\\n&lt;html data-n-head-ssr lang=\"r...</td>\n",
       "      <td>RU</td>\n",
       "    </tr>\n",
       "    <tr>\n",
       "      <th>3</th>\n",
       "      <td>&lt;!doctype html&gt;\\n&lt;html data-n-head-ssr lang=\"r...</td>\n",
       "      <td>RU</td>\n",
       "    </tr>\n",
       "    <tr>\n",
       "      <th>4</th>\n",
       "      <td>&lt;!doctype html&gt;\\n&lt;html data-n-head-ssr lang=\"r...</td>\n",
       "      <td>RU</td>\n",
       "    </tr>\n",
       "  </tbody>\n",
       "</table>\n",
       "</div>"
      ],
      "text/plain": [
       "                                                 raw lang\n",
       "0  <!doctype html>\\n<html data-n-head-ssr lang=\"r...   RU\n",
       "1  <!doctype html><html class=\"hcfe\" data-page-ty...   RU\n",
       "2  <!doctype html>\\n<html data-n-head-ssr lang=\"r...   RU\n",
       "3  <!doctype html>\\n<html data-n-head-ssr lang=\"r...   RU\n",
       "4  <!doctype html>\\n<html data-n-head-ssr lang=\"r...   RU"
      ]
     },
     "execution_count": 4,
     "metadata": {},
     "output_type": "execute_result"
    }
   ],
   "source": [
    "ru_df = pd.DataFrame({\"raw\": raw_ru})\n",
    "ru_df[\"lang\"] = \"RU\"\n",
    "en_df = pd.DataFrame({\"raw\": raw_en})\n",
    "en_df[\"lang\"] = \"EN\"\n",
    "df = pd.concat([ru_df, en_df])\n",
    "df.head()"
   ]
  },
  {
   "cell_type": "code",
   "execution_count": null,
   "id": "5f829b4e",
   "metadata": {},
   "outputs": [],
   "source": [
    "#!pip install html2text"
   ]
  },
  {
   "cell_type": "code",
   "execution_count": 5,
   "id": "fa277675",
   "metadata": {},
   "outputs": [],
   "source": [
    "import html2text\n",
    "h2t = html2text.HTML2Text()\n",
    "h2t.ignore_links = True\n",
    "df['text'] = df['raw'].apply(h2t.handle)"
   ]
  },
  {
   "cell_type": "code",
   "execution_count": 30,
   "id": "8065f258",
   "metadata": {
    "collapsed": true
   },
   "outputs": [
    {
     "name": "stdout",
     "output_type": "stream",
     "text": [
      "/home/atheostheos/anaconda3/lib/python3.10/site-packages/torch/cuda/__init__.py:546: UserWarning: Can't initialize NVML\n",
      "  warnings.warn(\"Can't initialize NVML\")\n",
      "2024-02-28 21:06:25.021400: I external/local_tsl/tsl/cuda/cudart_stub.cc:31] Could not find cuda drivers on your machine, GPU will not be used.\n",
      "2024-02-28 21:06:25.058934: E external/local_xla/xla/stream_executor/cuda/cuda_dnn.cc:9261] Unable to register cuDNN factory: Attempting to register factory for plugin cuDNN when one has already been registered\n",
      "2024-02-28 21:06:25.058970: E external/local_xla/xla/stream_executor/cuda/cuda_fft.cc:607] Unable to register cuFFT factory: Attempting to register factory for plugin cuFFT when one has already been registered\n",
      "2024-02-28 21:06:25.059809: E external/local_xla/xla/stream_executor/cuda/cuda_blas.cc:1515] Unable to register cuBLAS factory: Attempting to register factory for plugin cuBLAS when one has already been registered\n",
      "2024-02-28 21:06:25.065363: I tensorflow/core/platform/cpu_feature_guard.cc:182] This TensorFlow binary is optimized to use available CPU instructions in performance-critical operations.\n",
      "To enable the following instructions: AVX2 FMA, in other operations, rebuild TensorFlow with the appropriate compiler flags.\n",
      "2024-02-28 21:06:25.953251: W tensorflow/compiler/tf2tensorrt/utils/py_utils.cc:38] TF-TRT Warning: Could not find TensorRT\n",
      "2024-02-28 21:06:26.899877: E external/local_xla/xla/stream_executor/cuda/cuda_driver.cc:274] failed call to cuInit: CUDA_ERROR_NO_DEVICE: no CUDA-capable device is detected\n",
      "Collecting en-core-web-sm==3.4.1\n",
      "  Downloading https://github.com/explosion/spacy-models/releases/download/en_core_web_sm-3.4.1/en_core_web_sm-3.4.1-py3-none-any.whl (12.8 MB)\n",
      "\u001b[2K     \u001b[38;2;114;156;31m━━━━━━━━━━━━━━━━━━━━━━━━━━━━━━━━━━━━━━━━\u001b[0m \u001b[32m12.8/12.8 MB\u001b[0m \u001b[31m6.0 MB/s\u001b[0m eta \u001b[36m0:00:00\u001b[0mm eta \u001b[36m0:00:01\u001b[0m[36m0:00:01\u001b[0m\n",
      "\u001b[?25hRequirement already satisfied: spacy<3.5.0,>=3.4.0 in /home/atheostheos/anaconda3/lib/python3.10/site-packages (from en-core-web-sm==3.4.1) (3.4.4)\n",
      "Requirement already satisfied: tqdm<5.0.0,>=4.38.0 in /home/atheostheos/anaconda3/lib/python3.10/site-packages (from spacy<3.5.0,>=3.4.0->en-core-web-sm==3.4.1) (4.64.1)\n",
      "Requirement already satisfied: wasabi<1.1.0,>=0.9.1 in /home/atheostheos/anaconda3/lib/python3.10/site-packages (from spacy<3.5.0,>=3.4.0->en-core-web-sm==3.4.1) (0.10.1)\n",
      "Requirement already satisfied: pathy>=0.3.5 in /home/atheostheos/anaconda3/lib/python3.10/site-packages (from spacy<3.5.0,>=3.4.0->en-core-web-sm==3.4.1) (0.10.2)\n",
      "Requirement already satisfied: typer<0.8.0,>=0.3.0 in /home/atheostheos/anaconda3/lib/python3.10/site-packages (from spacy<3.5.0,>=3.4.0->en-core-web-sm==3.4.1) (0.7.0)\n",
      "Requirement already satisfied: preshed<3.1.0,>=3.0.2 in /home/atheostheos/anaconda3/lib/python3.10/site-packages (from spacy<3.5.0,>=3.4.0->en-core-web-sm==3.4.1) (3.0.8)\n",
      "Requirement already satisfied: murmurhash<1.1.0,>=0.28.0 in /home/atheostheos/anaconda3/lib/python3.10/site-packages (from spacy<3.5.0,>=3.4.0->en-core-web-sm==3.4.1) (1.0.9)\n",
      "Requirement already satisfied: smart-open<7.0.0,>=5.2.1 in /home/atheostheos/anaconda3/lib/python3.10/site-packages (from spacy<3.5.0,>=3.4.0->en-core-web-sm==3.4.1) (5.2.1)\n",
      "Requirement already satisfied: catalogue<2.1.0,>=2.0.6 in /home/atheostheos/anaconda3/lib/python3.10/site-packages (from spacy<3.5.0,>=3.4.0->en-core-web-sm==3.4.1) (2.0.8)\n",
      "Requirement already satisfied: spacy-legacy<3.1.0,>=3.0.10 in /home/atheostheos/anaconda3/lib/python3.10/site-packages (from spacy<3.5.0,>=3.4.0->en-core-web-sm==3.4.1) (3.0.12)\n",
      "Requirement already satisfied: srsly<3.0.0,>=2.4.3 in /home/atheostheos/anaconda3/lib/python3.10/site-packages (from spacy<3.5.0,>=3.4.0->en-core-web-sm==3.4.1) (2.4.6)\n",
      "Requirement already satisfied: spacy-loggers<2.0.0,>=1.0.0 in /home/atheostheos/anaconda3/lib/python3.10/site-packages (from spacy<3.5.0,>=3.4.0->en-core-web-sm==3.4.1) (1.0.4)\n",
      "Requirement already satisfied: numpy>=1.15.0 in /home/atheostheos/anaconda3/lib/python3.10/site-packages (from spacy<3.5.0,>=3.4.0->en-core-web-sm==3.4.1) (1.23.5)\n",
      "Requirement already satisfied: pydantic!=1.8,!=1.8.1,<1.11.0,>=1.7.4 in /home/atheostheos/anaconda3/lib/python3.10/site-packages (from spacy<3.5.0,>=3.4.0->en-core-web-sm==3.4.1) (1.10.10)\n",
      "Requirement already satisfied: cymem<2.1.0,>=2.0.2 in /home/atheostheos/anaconda3/lib/python3.10/site-packages (from spacy<3.5.0,>=3.4.0->en-core-web-sm==3.4.1) (2.0.7)\n",
      "Requirement already satisfied: langcodes<4.0.0,>=3.2.0 in /home/atheostheos/anaconda3/lib/python3.10/site-packages (from spacy<3.5.0,>=3.4.0->en-core-web-sm==3.4.1) (3.3.0)\n",
      "Requirement already satisfied: jinja2 in /home/atheostheos/anaconda3/lib/python3.10/site-packages (from spacy<3.5.0,>=3.4.0->en-core-web-sm==3.4.1) (3.1.2)\n",
      "Requirement already satisfied: setuptools in /home/atheostheos/anaconda3/lib/python3.10/site-packages (from spacy<3.5.0,>=3.4.0->en-core-web-sm==3.4.1) (65.6.3)\n",
      "Requirement already satisfied: thinc<8.2.0,>=8.1.0 in /home/atheostheos/anaconda3/lib/python3.10/site-packages (from spacy<3.5.0,>=3.4.0->en-core-web-sm==3.4.1) (8.1.10)\n",
      "Requirement already satisfied: requests<3.0.0,>=2.13.0 in /home/atheostheos/anaconda3/lib/python3.10/site-packages (from spacy<3.5.0,>=3.4.0->en-core-web-sm==3.4.1) (2.28.1)\n",
      "Requirement already satisfied: packaging>=20.0 in /home/atheostheos/anaconda3/lib/python3.10/site-packages (from spacy<3.5.0,>=3.4.0->en-core-web-sm==3.4.1) (22.0)\n",
      "Requirement already satisfied: typing-extensions>=4.2.0 in /home/atheostheos/anaconda3/lib/python3.10/site-packages (from pydantic!=1.8,!=1.8.1,<1.11.0,>=1.7.4->spacy<3.5.0,>=3.4.0->en-core-web-sm==3.4.1) (4.4.0)\n",
      "Requirement already satisfied: certifi>=2017.4.17 in /home/atheostheos/anaconda3/lib/python3.10/site-packages (from requests<3.0.0,>=2.13.0->spacy<3.5.0,>=3.4.0->en-core-web-sm==3.4.1) (2022.12.7)\n",
      "Requirement already satisfied: urllib3<1.27,>=1.21.1 in /home/atheostheos/anaconda3/lib/python3.10/site-packages (from requests<3.0.0,>=2.13.0->spacy<3.5.0,>=3.4.0->en-core-web-sm==3.4.1) (1.26.14)\n",
      "Requirement already satisfied: charset-normalizer<3,>=2 in /home/atheostheos/anaconda3/lib/python3.10/site-packages (from requests<3.0.0,>=2.13.0->spacy<3.5.0,>=3.4.0->en-core-web-sm==3.4.1) (2.0.4)\n",
      "Requirement already satisfied: idna<4,>=2.5 in /home/atheostheos/anaconda3/lib/python3.10/site-packages (from requests<3.0.0,>=2.13.0->spacy<3.5.0,>=3.4.0->en-core-web-sm==3.4.1) (3.4)\n",
      "Requirement already satisfied: blis<0.8.0,>=0.7.8 in /home/atheostheos/anaconda3/lib/python3.10/site-packages (from thinc<8.2.0,>=8.1.0->spacy<3.5.0,>=3.4.0->en-core-web-sm==3.4.1) (0.7.9)\n",
      "Requirement already satisfied: confection<1.0.0,>=0.0.1 in /home/atheostheos/anaconda3/lib/python3.10/site-packages (from thinc<8.2.0,>=8.1.0->spacy<3.5.0,>=3.4.0->en-core-web-sm==3.4.1) (0.1.0)\n",
      "Requirement already satisfied: click<9.0.0,>=7.1.1 in /home/atheostheos/anaconda3/lib/python3.10/site-packages (from typer<0.8.0,>=0.3.0->spacy<3.5.0,>=3.4.0->en-core-web-sm==3.4.1) (8.0.4)\n",
      "Requirement already satisfied: MarkupSafe>=2.0 in /home/atheostheos/anaconda3/lib/python3.10/site-packages (from jinja2->spacy<3.5.0,>=3.4.0->en-core-web-sm==3.4.1) (2.1.1)\n",
      "Installing collected packages: en-core-web-sm\n",
      "Successfully installed en-core-web-sm-3.4.1\n",
      "\u001b[38;5;2m✔ Download and installation successful\u001b[0m\n",
      "You can now load the package via spacy.load('en_core_web_sm')\n",
      "/home/atheostheos/anaconda3/lib/python3.10/site-packages/torch/cuda/__init__.py:546: UserWarning: Can't initialize NVML\n",
      "  warnings.warn(\"Can't initialize NVML\")\n",
      "2024-02-28 21:06:37.558180: I external/local_tsl/tsl/cuda/cudart_stub.cc:31] Could not find cuda drivers on your machine, GPU will not be used.\n",
      "2024-02-28 21:06:37.593099: E external/local_xla/xla/stream_executor/cuda/cuda_dnn.cc:9261] Unable to register cuDNN factory: Attempting to register factory for plugin cuDNN when one has already been registered\n",
      "2024-02-28 21:06:37.593140: E external/local_xla/xla/stream_executor/cuda/cuda_fft.cc:607] Unable to register cuFFT factory: Attempting to register factory for plugin cuFFT when one has already been registered\n",
      "2024-02-28 21:06:37.594226: E external/local_xla/xla/stream_executor/cuda/cuda_blas.cc:1515] Unable to register cuBLAS factory: Attempting to register factory for plugin cuBLAS when one has already been registered\n",
      "2024-02-28 21:06:37.599970: I tensorflow/core/platform/cpu_feature_guard.cc:182] This TensorFlow binary is optimized to use available CPU instructions in performance-critical operations.\n",
      "To enable the following instructions: AVX2 FMA, in other operations, rebuild TensorFlow with the appropriate compiler flags.\n"
     ]
    },
    {
     "name": "stdout",
     "output_type": "stream",
     "text": [
      "2024-02-28 21:06:38.399471: W tensorflow/compiler/tf2tensorrt/utils/py_utils.cc:38] TF-TRT Warning: Could not find TensorRT\n",
      "2024-02-28 21:06:39.387633: E external/local_xla/xla/stream_executor/cuda/cuda_driver.cc:274] failed call to cuInit: CUDA_ERROR_NO_DEVICE: no CUDA-capable device is detected\n",
      "Collecting ru-core-news-sm==3.4.0\n",
      "  Downloading https://github.com/explosion/spacy-models/releases/download/ru_core_news_sm-3.4.0/ru_core_news_sm-3.4.0-py3-none-any.whl (15.3 MB)\n",
      "\u001b[2K     \u001b[38;2;114;156;31m━━━━━━━━━━━━━━━━━━━━━━━━━━━━━━━━━━━━━━━━\u001b[0m \u001b[32m15.3/15.3 MB\u001b[0m \u001b[31m4.8 MB/s\u001b[0m eta \u001b[36m0:00:00\u001b[0mm eta \u001b[36m0:00:01\u001b[0m[36m0:00:01\u001b[0m\n",
      "\u001b[?25hRequirement already satisfied: pymorphy2>=0.9 in /home/atheostheos/anaconda3/lib/python3.10/site-packages (from ru-core-news-sm==3.4.0) (0.9.1)\n",
      "Requirement already satisfied: spacy<3.5.0,>=3.4.0 in /home/atheostheos/anaconda3/lib/python3.10/site-packages (from ru-core-news-sm==3.4.0) (3.4.4)\n",
      "Requirement already satisfied: pymorphy2-dicts-ru<3.0,>=2.4 in /home/atheostheos/anaconda3/lib/python3.10/site-packages (from pymorphy2>=0.9->ru-core-news-sm==3.4.0) (2.4.417127.4579844)\n",
      "Requirement already satisfied: dawg-python>=0.7.1 in /home/atheostheos/anaconda3/lib/python3.10/site-packages (from pymorphy2>=0.9->ru-core-news-sm==3.4.0) (0.7.2)\n",
      "Requirement already satisfied: docopt>=0.6 in /home/atheostheos/anaconda3/lib/python3.10/site-packages (from pymorphy2>=0.9->ru-core-news-sm==3.4.0) (0.6.2)\n",
      "Requirement already satisfied: typer<0.8.0,>=0.3.0 in /home/atheostheos/anaconda3/lib/python3.10/site-packages (from spacy<3.5.0,>=3.4.0->ru-core-news-sm==3.4.0) (0.7.0)\n",
      "Requirement already satisfied: spacy-loggers<2.0.0,>=1.0.0 in /home/atheostheos/anaconda3/lib/python3.10/site-packages (from spacy<3.5.0,>=3.4.0->ru-core-news-sm==3.4.0) (1.0.4)\n",
      "Requirement already satisfied: wasabi<1.1.0,>=0.9.1 in /home/atheostheos/anaconda3/lib/python3.10/site-packages (from spacy<3.5.0,>=3.4.0->ru-core-news-sm==3.4.0) (0.10.1)\n",
      "Requirement already satisfied: setuptools in /home/atheostheos/anaconda3/lib/python3.10/site-packages (from spacy<3.5.0,>=3.4.0->ru-core-news-sm==3.4.0) (65.6.3)\n",
      "Requirement already satisfied: murmurhash<1.1.0,>=0.28.0 in /home/atheostheos/anaconda3/lib/python3.10/site-packages (from spacy<3.5.0,>=3.4.0->ru-core-news-sm==3.4.0) (1.0.9)\n",
      "Requirement already satisfied: spacy-legacy<3.1.0,>=3.0.10 in /home/atheostheos/anaconda3/lib/python3.10/site-packages (from spacy<3.5.0,>=3.4.0->ru-core-news-sm==3.4.0) (3.0.12)\n",
      "Requirement already satisfied: packaging>=20.0 in /home/atheostheos/anaconda3/lib/python3.10/site-packages (from spacy<3.5.0,>=3.4.0->ru-core-news-sm==3.4.0) (22.0)\n",
      "Requirement already satisfied: catalogue<2.1.0,>=2.0.6 in /home/atheostheos/anaconda3/lib/python3.10/site-packages (from spacy<3.5.0,>=3.4.0->ru-core-news-sm==3.4.0) (2.0.8)\n",
      "Requirement already satisfied: langcodes<4.0.0,>=3.2.0 in /home/atheostheos/anaconda3/lib/python3.10/site-packages (from spacy<3.5.0,>=3.4.0->ru-core-news-sm==3.4.0) (3.3.0)\n",
      "Requirement already satisfied: cymem<2.1.0,>=2.0.2 in /home/atheostheos/anaconda3/lib/python3.10/site-packages (from spacy<3.5.0,>=3.4.0->ru-core-news-sm==3.4.0) (2.0.7)\n",
      "Requirement already satisfied: srsly<3.0.0,>=2.4.3 in /home/atheostheos/anaconda3/lib/python3.10/site-packages (from spacy<3.5.0,>=3.4.0->ru-core-news-sm==3.4.0) (2.4.6)\n",
      "Requirement already satisfied: pydantic!=1.8,!=1.8.1,<1.11.0,>=1.7.4 in /home/atheostheos/anaconda3/lib/python3.10/site-packages (from spacy<3.5.0,>=3.4.0->ru-core-news-sm==3.4.0) (1.10.10)\n",
      "Requirement already satisfied: pathy>=0.3.5 in /home/atheostheos/anaconda3/lib/python3.10/site-packages (from spacy<3.5.0,>=3.4.0->ru-core-news-sm==3.4.0) (0.10.2)\n",
      "Requirement already satisfied: numpy>=1.15.0 in /home/atheostheos/anaconda3/lib/python3.10/site-packages (from spacy<3.5.0,>=3.4.0->ru-core-news-sm==3.4.0) (1.23.5)\n",
      "Requirement already satisfied: requests<3.0.0,>=2.13.0 in /home/atheostheos/anaconda3/lib/python3.10/site-packages (from spacy<3.5.0,>=3.4.0->ru-core-news-sm==3.4.0) (2.28.1)\n",
      "Requirement already satisfied: smart-open<7.0.0,>=5.2.1 in /home/atheostheos/anaconda3/lib/python3.10/site-packages (from spacy<3.5.0,>=3.4.0->ru-core-news-sm==3.4.0) (5.2.1)\n",
      "Requirement already satisfied: thinc<8.2.0,>=8.1.0 in /home/atheostheos/anaconda3/lib/python3.10/site-packages (from spacy<3.5.0,>=3.4.0->ru-core-news-sm==3.4.0) (8.1.10)\n",
      "Requirement already satisfied: preshed<3.1.0,>=3.0.2 in /home/atheostheos/anaconda3/lib/python3.10/site-packages (from spacy<3.5.0,>=3.4.0->ru-core-news-sm==3.4.0) (3.0.8)\n",
      "Requirement already satisfied: jinja2 in /home/atheostheos/anaconda3/lib/python3.10/site-packages (from spacy<3.5.0,>=3.4.0->ru-core-news-sm==3.4.0) (3.1.2)\n",
      "Requirement already satisfied: tqdm<5.0.0,>=4.38.0 in /home/atheostheos/anaconda3/lib/python3.10/site-packages (from spacy<3.5.0,>=3.4.0->ru-core-news-sm==3.4.0) (4.64.1)\n",
      "Requirement already satisfied: typing-extensions>=4.2.0 in /home/atheostheos/anaconda3/lib/python3.10/site-packages (from pydantic!=1.8,!=1.8.1,<1.11.0,>=1.7.4->spacy<3.5.0,>=3.4.0->ru-core-news-sm==3.4.0) (4.4.0)\n",
      "Requirement already satisfied: urllib3<1.27,>=1.21.1 in /home/atheostheos/anaconda3/lib/python3.10/site-packages (from requests<3.0.0,>=2.13.0->spacy<3.5.0,>=3.4.0->ru-core-news-sm==3.4.0) (1.26.14)\n",
      "Requirement already satisfied: certifi>=2017.4.17 in /home/atheostheos/anaconda3/lib/python3.10/site-packages (from requests<3.0.0,>=2.13.0->spacy<3.5.0,>=3.4.0->ru-core-news-sm==3.4.0) (2022.12.7)\n",
      "Requirement already satisfied: idna<4,>=2.5 in /home/atheostheos/anaconda3/lib/python3.10/site-packages (from requests<3.0.0,>=2.13.0->spacy<3.5.0,>=3.4.0->ru-core-news-sm==3.4.0) (3.4)\n",
      "Requirement already satisfied: charset-normalizer<3,>=2 in /home/atheostheos/anaconda3/lib/python3.10/site-packages (from requests<3.0.0,>=2.13.0->spacy<3.5.0,>=3.4.0->ru-core-news-sm==3.4.0) (2.0.4)\n",
      "Requirement already satisfied: blis<0.8.0,>=0.7.8 in /home/atheostheos/anaconda3/lib/python3.10/site-packages (from thinc<8.2.0,>=8.1.0->spacy<3.5.0,>=3.4.0->ru-core-news-sm==3.4.0) (0.7.9)\n",
      "Requirement already satisfied: confection<1.0.0,>=0.0.1 in /home/atheostheos/anaconda3/lib/python3.10/site-packages (from thinc<8.2.0,>=8.1.0->spacy<3.5.0,>=3.4.0->ru-core-news-sm==3.4.0) (0.1.0)\n",
      "Requirement already satisfied: click<9.0.0,>=7.1.1 in /home/atheostheos/anaconda3/lib/python3.10/site-packages (from typer<0.8.0,>=0.3.0->spacy<3.5.0,>=3.4.0->ru-core-news-sm==3.4.0) (8.0.4)\n",
      "Requirement already satisfied: MarkupSafe>=2.0 in /home/atheostheos/anaconda3/lib/python3.10/site-packages (from jinja2->spacy<3.5.0,>=3.4.0->ru-core-news-sm==3.4.0) (2.1.1)\n",
      "\u001b[38;5;2m✔ Download and installation successful\u001b[0m\n",
      "You can now load the package via spacy.load('ru_core_news_sm')\n"
     ]
    }
   ],
   "source": [
    "#!python -m spacy download en_core_web_sm\n",
    "#!python -m spacy download ru_core_news_sm"
   ]
  },
  {
   "cell_type": "code",
   "execution_count": 6,
   "id": "52474acf",
   "metadata": {},
   "outputs": [
    {
     "name": "stderr",
     "output_type": "stream",
     "text": [
      "/home/atheostheos/anaconda3/lib/python3.10/site-packages/torch/cuda/__init__.py:546: UserWarning: Can't initialize NVML\n",
      "  warnings.warn(\"Can't initialize NVML\")\n",
      "2024-02-29 16:28:39.175262: I external/local_tsl/tsl/cuda/cudart_stub.cc:31] Could not find cuda drivers on your machine, GPU will not be used.\n",
      "2024-02-29 16:28:39.348868: E external/local_xla/xla/stream_executor/cuda/cuda_dnn.cc:9261] Unable to register cuDNN factory: Attempting to register factory for plugin cuDNN when one has already been registered\n",
      "2024-02-29 16:28:39.348932: E external/local_xla/xla/stream_executor/cuda/cuda_fft.cc:607] Unable to register cuFFT factory: Attempting to register factory for plugin cuFFT when one has already been registered\n",
      "2024-02-29 16:28:39.369440: E external/local_xla/xla/stream_executor/cuda/cuda_blas.cc:1515] Unable to register cuBLAS factory: Attempting to register factory for plugin cuBLAS when one has already been registered\n",
      "2024-02-29 16:28:39.416913: I tensorflow/core/platform/cpu_feature_guard.cc:182] This TensorFlow binary is optimized to use available CPU instructions in performance-critical operations.\n",
      "To enable the following instructions: AVX2 FMA, in other operations, rebuild TensorFlow with the appropriate compiler flags.\n",
      "2024-02-29 16:28:40.563681: W tensorflow/compiler/tf2tensorrt/utils/py_utils.cc:38] TF-TRT Warning: Could not find TensorRT\n",
      "2024-02-29 16:28:41.605159: E external/local_xla/xla/stream_executor/cuda/cuda_driver.cc:274] failed call to cuInit: CUDA_ERROR_NO_DEVICE: no CUDA-capable device is detected\n"
     ]
    }
   ],
   "source": [
    "import spacy\n",
    "import spacy_transformers\n",
    "nlp_en = spacy.load(\"en_core_web_sm\")\n",
    "nlp_ru = spacy.load(\"ru_core_news_sm\")\n",
    "en_df = df[df['lang'] == \"EN\"]\n",
    "ru_df = df[df['lang'] == \"RU\"]"
   ]
  },
  {
   "cell_type": "code",
   "execution_count": 7,
   "id": "a1814838",
   "metadata": {},
   "outputs": [],
   "source": [
    "def get_tokens_en(text):\n",
    "    doc = nlp_en(ex)\n",
    "    return [w for w in doc if (w.is_alpha and not w.is_stop)]\n",
    "\n",
    "def get_tokens_ru(text):\n",
    "    doc = nlp_ru(ex)\n",
    "    return [w for w in doc if (w.is_alpha and not w.is_stop)]"
   ]
  },
  {
   "cell_type": "code",
   "execution_count": 100,
   "id": "6f3b95f3",
   "metadata": {},
   "outputs": [],
   "source": [
    "ts = get_tokens_en(en_df.iloc[0][\"text\"])"
   ]
  },
  {
   "cell_type": "code",
   "execution_count": 118,
   "id": "f604b6f9",
   "metadata": {
    "scrolled": true
   },
   "outputs": [
    {
     "data": {
      "text/plain": [
       "'image'"
      ]
     },
     "execution_count": 118,
     "metadata": {},
     "output_type": "execute_result"
    }
   ],
   "source": [
    "ts[69].lemma_"
   ]
  },
  {
   "cell_type": "code",
   "execution_count": 71,
   "id": "df2bdc02",
   "metadata": {},
   "outputs": [
    {
     "name": "stderr",
     "output_type": "stream",
     "text": [
      "[nltk_data] Downloading package wordnet to\n",
      "[nltk_data]     /home/atheostheos/nltk_data...\n",
      "[nltk_data]   Package wordnet is already up-to-date!\n",
      "[nltk_data] Downloading package omw-1.4 to\n",
      "[nltk_data]     /home/atheostheos/nltk_data...\n"
     ]
    }
   ],
   "source": [
    "import nltk\n",
    "from nltk.corpus import wordnet\n",
    "\n",
    "nltk.download('wordnet')\n",
    "nltk.download('omw-1.4')\n",
    "\n",
    "def has_meaning(word):\n",
    "    return len(wordnet.synsets(word)) > 0"
   ]
  },
  {
   "cell_type": "code",
   "execution_count": 76,
   "id": "149f78ca",
   "metadata": {},
   "outputs": [
    {
     "name": "stdout",
     "output_type": "stream",
     "text": [
      "Collecting wiki-ru-wordnet\n",
      "  Downloading wiki_ru_wordnet-1.0.3.tar.gz (20.6 MB)\n",
      "\u001b[2K     \u001b[38;2;114;156;31m━━━━━━━━━━━━━━━━━━━━━━━━━━━━━━━━━━━━━━━━\u001b[0m \u001b[32m20.6/20.6 MB\u001b[0m \u001b[31m1.5 MB/s\u001b[0m eta \u001b[36m0:00:00\u001b[0mm eta \u001b[36m0:00:01\u001b[0m[36m0:00:01\u001b[0mm\n",
      "\u001b[?25h  Preparing metadata (setup.py) ... \u001b[?25ldone\n",
      "\u001b[?25hBuilding wheels for collected packages: wiki-ru-wordnet\n",
      "  Building wheel for wiki-ru-wordnet (setup.py) ... \u001b[?25ldone\n",
      "\u001b[?25h  Created wheel for wiki-ru-wordnet: filename=wiki_ru_wordnet-1.0.3-py3-none-any.whl size=20890429 sha256=87a9429ac8c523f0a5035a497a10bbd184896ef3d98a012a6886574c3d24764b\n",
      "  Stored in directory: /home/atheostheos/.cache/pip/wheels/37/2d/4a/6ff7974a42f9f1adc93919dc2c107e3358abaec46580332d81\n",
      "Successfully built wiki-ru-wordnet\n",
      "Installing collected packages: wiki-ru-wordnet\n",
      "Successfully installed wiki-ru-wordnet-1.0.3\n"
     ]
    }
   ],
   "source": [
    "#!pip install wiki-ru-wordnet"
   ]
  },
  {
   "cell_type": "code",
   "execution_count": 80,
   "id": "95605002",
   "metadata": {},
   "outputs": [],
   "source": [
    "from wiki_ru_wordnet import WikiWordnet\n",
    "wikiwordnet = WikiWordnet()\n",
    "\n",
    "def has_meaning_ru(word):\n",
    "    return len(wikiwordnet.get_synsets(word)) > 0"
   ]
  },
  {
   "cell_type": "code",
   "execution_count": 103,
   "id": "cfb46e76",
   "metadata": {
    "scrolled": true
   },
   "outputs": [],
   "source": [
    "from tqdm.notebook import tqdm\n",
    "import re\n",
    "\n",
    "pattern = re.compile(r'^[А-Яа-яёЁ]+$|^[A-Za-z]+$')\n",
    "\n",
    "def get_info(df, lang=\"EN\"):\n",
    "    token_set = set()\n",
    "    lemmas_set = dict()\n",
    "    for index, row in tqdm(df.iterrows()):\n",
    "        lang = row['lang']\n",
    "        doc = nlp_en(row['text']) if lang == \"EN\" else nlp_ru(row[\"text\"])\n",
    "        toks = [w for w in doc if (w.is_alpha and not w.is_stop)]\n",
    "        #token_set.update([t.lower_ for t in toks])\n",
    "        for t in toks:\n",
    "            # filter text with invslid characters OR that's too short OR too long \n",
    "            if not pattern.match(t.text) or len(t.text) < 2 or len(t.text) > 29:\n",
    "                continue\n",
    "            # filter tokens that in vocabulary\n",
    "            if (lang==\"EN\" and not has_meaning(t.lemma_)) or (lang==\"RU\" and not has_meaning_ru(t.lemma_)):\n",
    "                continue\n",
    "            lem = t.lemma_\n",
    "            token_set.update([t.lower_])\n",
    "            if lem in lemmas_set.keys():\n",
    "                lemmas_set[lem].update([t.lower_])\n",
    "            else:\n",
    "                lemmas_set[lem] = set([t.lower_])\n",
    "    \n",
    "    return token_set, lemmas_set    "
   ]
  },
  {
   "cell_type": "code",
   "execution_count": 102,
   "id": "ccd6faf9",
   "metadata": {},
   "outputs": [
    {
     "data": {
      "text/plain": [
       "False"
      ]
     },
     "execution_count": 102,
     "metadata": {},
     "output_type": "execute_result"
    }
   ],
   "source": [
    "has_meaning_ru(\"nih\")"
   ]
  },
  {
   "cell_type": "code",
   "execution_count": 104,
   "id": "2618d8d8",
   "metadata": {
    "scrolled": true
   },
   "outputs": [
    {
     "data": {
      "application/vnd.jupyter.widget-view+json": {
       "model_id": "d7ad47242bac473188e0c08cfec3538b",
       "version_major": 2,
       "version_minor": 0
      },
      "text/plain": [
       "0it [00:00, ?it/s]"
      ]
     },
     "metadata": {},
     "output_type": "display_data"
    },
    {
     "ename": "KeyboardInterrupt",
     "evalue": "",
     "output_type": "error",
     "traceback": [
      "\u001b[0;31m---------------------------------------------------------------------------\u001b[0m",
      "\u001b[0;31mKeyboardInterrupt\u001b[0m                         Traceback (most recent call last)",
      "Cell \u001b[0;32mIn[104], line 1\u001b[0m\n\u001b[0;32m----> 1\u001b[0m en_token_set, en_lemmas_set \u001b[38;5;241m=\u001b[39m \u001b[43mget_info\u001b[49m\u001b[43m(\u001b[49m\u001b[43men_df\u001b[49m\u001b[43m,\u001b[49m\u001b[43m \u001b[49m\u001b[43mlang\u001b[49m\u001b[38;5;241;43m=\u001b[39;49m\u001b[38;5;124;43m\"\u001b[39;49m\u001b[38;5;124;43mEN\u001b[39;49m\u001b[38;5;124;43m\"\u001b[39;49m\u001b[43m)\u001b[49m\n",
      "Cell \u001b[0;32mIn[103], line 11\u001b[0m, in \u001b[0;36mget_info\u001b[0;34m(df, lang)\u001b[0m\n\u001b[1;32m      9\u001b[0m \u001b[38;5;28;01mfor\u001b[39;00m index, row \u001b[38;5;129;01min\u001b[39;00m tqdm(df\u001b[38;5;241m.\u001b[39miterrows()):\n\u001b[1;32m     10\u001b[0m     lang \u001b[38;5;241m=\u001b[39m row[\u001b[38;5;124m'\u001b[39m\u001b[38;5;124mlang\u001b[39m\u001b[38;5;124m'\u001b[39m]\n\u001b[0;32m---> 11\u001b[0m     doc \u001b[38;5;241m=\u001b[39m \u001b[43mnlp_en\u001b[49m\u001b[43m(\u001b[49m\u001b[43mrow\u001b[49m\u001b[43m[\u001b[49m\u001b[38;5;124;43m'\u001b[39;49m\u001b[38;5;124;43mtext\u001b[39;49m\u001b[38;5;124;43m'\u001b[39;49m\u001b[43m]\u001b[49m\u001b[43m)\u001b[49m \u001b[38;5;28;01mif\u001b[39;00m lang \u001b[38;5;241m==\u001b[39m \u001b[38;5;124m\"\u001b[39m\u001b[38;5;124mEN\u001b[39m\u001b[38;5;124m\"\u001b[39m \u001b[38;5;28;01melse\u001b[39;00m nlp_ru(row[\u001b[38;5;124m\"\u001b[39m\u001b[38;5;124mtext\u001b[39m\u001b[38;5;124m\"\u001b[39m])\n\u001b[1;32m     12\u001b[0m     toks \u001b[38;5;241m=\u001b[39m [w \u001b[38;5;28;01mfor\u001b[39;00m w \u001b[38;5;129;01min\u001b[39;00m doc \u001b[38;5;28;01mif\u001b[39;00m (w\u001b[38;5;241m.\u001b[39mis_alpha \u001b[38;5;129;01mand\u001b[39;00m \u001b[38;5;129;01mnot\u001b[39;00m w\u001b[38;5;241m.\u001b[39mis_stop)]\n\u001b[1;32m     13\u001b[0m     \u001b[38;5;66;03m#token_set.update([t.lower_ for t in toks])\u001b[39;00m\n",
      "File \u001b[0;32m~/anaconda3/lib/python3.10/site-packages/spacy/language.py:1026\u001b[0m, in \u001b[0;36mLanguage.__call__\u001b[0;34m(self, text, disable, component_cfg)\u001b[0m\n\u001b[1;32m   1024\u001b[0m     error_handler \u001b[38;5;241m=\u001b[39m proc\u001b[38;5;241m.\u001b[39mget_error_handler()\n\u001b[1;32m   1025\u001b[0m \u001b[38;5;28;01mtry\u001b[39;00m:\n\u001b[0;32m-> 1026\u001b[0m     doc \u001b[38;5;241m=\u001b[39m \u001b[43mproc\u001b[49m\u001b[43m(\u001b[49m\u001b[43mdoc\u001b[49m\u001b[43m,\u001b[49m\u001b[43m \u001b[49m\u001b[38;5;241;43m*\u001b[39;49m\u001b[38;5;241;43m*\u001b[39;49m\u001b[43mcomponent_cfg\u001b[49m\u001b[38;5;241;43m.\u001b[39;49m\u001b[43mget\u001b[49m\u001b[43m(\u001b[49m\u001b[43mname\u001b[49m\u001b[43m,\u001b[49m\u001b[43m \u001b[49m\u001b[43m{\u001b[49m\u001b[43m}\u001b[49m\u001b[43m)\u001b[49m\u001b[43m)\u001b[49m  \u001b[38;5;66;03m# type: ignore[call-arg]\u001b[39;00m\n\u001b[1;32m   1027\u001b[0m \u001b[38;5;28;01mexcept\u001b[39;00m \u001b[38;5;167;01mKeyError\u001b[39;00m \u001b[38;5;28;01mas\u001b[39;00m e:\n\u001b[1;32m   1028\u001b[0m     \u001b[38;5;66;03m# This typically happens if a component is not initialized\u001b[39;00m\n\u001b[1;32m   1029\u001b[0m     \u001b[38;5;28;01mraise\u001b[39;00m \u001b[38;5;167;01mValueError\u001b[39;00m(Errors\u001b[38;5;241m.\u001b[39mE109\u001b[38;5;241m.\u001b[39mformat(name\u001b[38;5;241m=\u001b[39mname)) \u001b[38;5;28;01mfrom\u001b[39;00m \u001b[38;5;21;01me\u001b[39;00m\n",
      "\u001b[0;31mKeyboardInterrupt\u001b[0m: "
     ]
    }
   ],
   "source": [
    "en_token_set, en_lemmas_set = get_info(en_df, lang=\"EN\")"
   ]
  },
  {
   "cell_type": "code",
   "execution_count": 105,
   "id": "db01d8f8",
   "metadata": {},
   "outputs": [
    {
     "data": {
      "application/vnd.jupyter.widget-view+json": {
       "model_id": "09c58e7901ae4e23ad5a708715fee896",
       "version_major": 2,
       "version_minor": 0
      },
      "text/plain": [
       "0it [00:00, ?it/s]"
      ]
     },
     "metadata": {},
     "output_type": "display_data"
    }
   ],
   "source": [
    "ru_token_set, ru_lemmas_set = get_info(ru_df, lang=\"RU\")"
   ]
  },
  {
   "cell_type": "code",
   "execution_count": 106,
   "id": "f42936ed",
   "metadata": {
    "scrolled": true
   },
   "outputs": [],
   "source": [
    "with open(\"ru_tokens.txt\", \"w\") as f:\n",
    "    for word in ru_token_set:\n",
    "        f.write(word + \"\\n\")\n",
    "with open(\"en_tokens.txt\", \"w\") as f:\n",
    "    for word in en_token_set:\n",
    "        f.write(word + \"\\n\")"
   ]
  },
  {
   "cell_type": "code",
   "execution_count": 107,
   "id": "f42b1717",
   "metadata": {},
   "outputs": [],
   "source": [
    "with open('ru_lemmas.txt', \"w\") as f:\n",
    "    for key, lem_set in ru_lemmas_set.items():\n",
    "        f.write(f\"{key.lower()}: {' '.join(lem_set)}\\n\")\n",
    "with open('en_lemmas.txt', \"w\") as f:\n",
    "    for key, lem_set in en_lemmas_set.items():\n",
    "        f.write(f\"{key.lower()}: {' '.join(lem_set)}\\n\")"
   ]
  }
 ],
 "metadata": {
  "kernelspec": {
   "display_name": "Python 3 (ipykernel)",
   "language": "python",
   "name": "python3"
  },
  "language_info": {
   "codemirror_mode": {
    "name": "ipython",
    "version": 3
   },
   "file_extension": ".py",
   "mimetype": "text/x-python",
   "name": "python",
   "nbconvert_exporter": "python",
   "pygments_lexer": "ipython3",
   "version": "3.10.9"
  }
 },
 "nbformat": 4,
 "nbformat_minor": 5
}
