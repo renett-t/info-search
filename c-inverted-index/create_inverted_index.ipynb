{
 "cells": [
  {
   "cell_type": "code",
   "execution_count": 1,
   "id": "23c4aefe-2fa5-479d-b160-20798a32d611",
   "metadata": {},
   "outputs": [],
   "source": [
    "import pandas as pd\n",
    "import os\n",
    "from glob import glob\n",
    "\n",
    "import re"
   ]
  },
  {
   "cell_type": "code",
   "execution_count": 2,
   "id": "bba30eeb-98db-4dd2-a317-e2a2d90c6424",
   "metadata": {},
   "outputs": [
    {
     "name": "stdout",
     "output_type": "stream",
     "text": [
      "Russian websites: 195\n",
      "English websites: 565\n"
     ]
    }
   ],
   "source": [
    "RU_WEBS_DIR = \"./../a-crawling/crawling/crawling/spiders/pages/ru\"\n",
    "EN_WEBS_DIR = \"./../a-crawling/crawling/crawling/spiders/pages/en\"\n",
    "\n",
    "ru_webs_pl = glob(f\"{RU_WEBS_DIR}/**.html\")\n",
    "en_webs_pl = glob(f\"{EN_WEBS_DIR}/**.html\")\n",
    "\n",
    "print(f\"Russian websites: {len(ru_webs_pl)}\")\n",
    "print(f\"English websites: {len(en_webs_pl)}\")"
   ]
  },
  {
   "cell_type": "code",
   "execution_count": 3,
   "id": "f25bfafc-1ba8-4d47-be6c-ce6dd9b81164",
   "metadata": {},
   "outputs": [],
   "source": [
    "RU_LEMMAS_FILE = \"./../b-tokens/ru_lemmas.txt\"\n",
    "EN_LEMMAS_FILE = \"./../b-tokens/en_lemmas.txt\"\n",
    "\n",
    "RU_TOKENS_FILE = \"./../b-tokens/ru_tokens.txt\"\n",
    "EN_TOKENS_FILE = \"./../b-tokens/en_tokens.txt\""
   ]
  },
  {
   "cell_type": "code",
   "execution_count": 4,
   "id": "cea5371a-2d68-419f-bf1c-130fcd2ed8b0",
   "metadata": {},
   "outputs": [],
   "source": [
    "# config\n",
    "\n",
    "# RU or EN\n",
    "lang = \"RU\" \n",
    "webs_pl = ru_webs_pl\n",
    "lemmas_file = RU_LEMMAS_FILE\n",
    "\n",
    "index_output_file_name = \"ru_inverted_index.txt\""
   ]
  },
  {
   "cell_type": "code",
   "execution_count": 5,
   "id": "90528de4-8a6e-4720-b190-09d07b80e5c8",
   "metadata": {},
   "outputs": [],
   "source": [
    "# known lemmas. lemma - key, list of tokens - value\n",
    "lemmas_map = dict()"
   ]
  },
  {
   "cell_type": "code",
   "execution_count": 6,
   "id": "4f1e6cff-f47c-41f7-87d2-5e283ef20d8c",
   "metadata": {},
   "outputs": [],
   "source": [
    "# index. lemma - key, list of file indexes (special data-class container) - value\n",
    "index = dict()"
   ]
  },
  {
   "cell_type": "code",
   "execution_count": 7,
   "id": "873ce37c-9fbe-4eb1-9353-4f0abfcf10a4",
   "metadata": {},
   "outputs": [],
   "source": [
    "file = open(lemmas_file, 'r')\n",
    "\n",
    "lines = file.readlines()\n",
    "for line in lines:\n",
    "    tokens = re.split('\\\\s+', line)\n",
    "    \n",
    "    lemma_dirty = tokens[0]\n",
    "    lemma = lemma_dirty[:len(lemma_dirty)-1]\n",
    "    \n",
    "    lemmas_map[lemma] = []\n",
    "    for i in range(1, len(tokens) - 1):\n",
    "        token = tokens[i]\n",
    "        if (not len(token.strip()) == 0):\n",
    "            lemmas_map[lemma].append(token)\n",
    "\n",
    "file.close()"
   ]
  },
  {
   "cell_type": "code",
   "execution_count": 8,
   "id": "64b9a25b-4577-41b5-bfb3-515e7d442a6d",
   "metadata": {},
   "outputs": [],
   "source": [
    "import html2text\n",
    "h2t = html2text.HTML2Text()\n",
    "h2t.ignore_links = True"
   ]
  },
  {
   "cell_type": "code",
   "execution_count": 9,
   "id": "b9793add-76cd-4bdc-b7e6-a6fe5d553bcc",
   "metadata": {},
   "outputs": [
    {
     "name": "stderr",
     "output_type": "stream",
     "text": [
      "/Users/r.tyapkina/Library/Python/3.9/lib/python/site-packages/urllib3/__init__.py:35: NotOpenSSLWarning: urllib3 v2 only supports OpenSSL 1.1.1+, currently the 'ssl' module is compiled with 'LibreSSL 2.8.3'. See: https://github.com/urllib3/urllib3/issues/3020\n",
      "  warnings.warn(\n",
      "/Users/r.tyapkina/Library/Python/3.9/lib/python/site-packages/transformers/utils/generic.py:441: UserWarning: torch.utils._pytree._register_pytree_node is deprecated. Please use torch.utils._pytree.register_pytree_node instead.\n",
      "  _torch_pytree._register_pytree_node(\n",
      "/Users/r.tyapkina/Library/Python/3.9/lib/python/site-packages/transformers/utils/generic.py:309: UserWarning: torch.utils._pytree._register_pytree_node is deprecated. Please use torch.utils._pytree.register_pytree_node instead.\n",
      "  _torch_pytree._register_pytree_node(\n"
     ]
    }
   ],
   "source": [
    "import spacy\n",
    "import spacy_transformers\n",
    "\n",
    "nlp_en = spacy.load(\"en_core_web_sm\")\n",
    "nlp_ru = spacy.load(\"ru_core_news_sm\")\n",
    "\n",
    "def get_tokens(text):\n",
    "    if (lang == \"RU\"):\n",
    "        doc = nlp_ru(text)\n",
    "    else:\n",
    "        doc = nlp_en(text)\n",
    "    \n",
    "    return [w for w in doc if (w.is_alpha and not w.is_stop)]"
   ]
  },
  {
   "cell_type": "code",
   "execution_count": 10,
   "id": "723e7626-db52-4bf4-a337-20dd6b98d05e",
   "metadata": {},
   "outputs": [],
   "source": [
    "class InvertedIndexEntry:\n",
    "    def __init__(self, lemma):\n",
    "        self.lemma = lemma\n",
    "        self.count = 0\n",
    "        self.files = set()\n",
    "        \n",
    "    def add_count(self, count):\n",
    "        self.count += count\n",
    "\n",
    "    def add_file(self, file_idx):\n",
    "        self.files.add(file_idx)\n",
    "        self.count += 1\n",
    "    \n",
    "    def __repr__(self):\n",
    "        return f\"InvertedIndexEntry(lemma = '{self.lemma}', count = {self.count}, files = {sorted(self.files)})\""
   ]
  },
  {
   "cell_type": "code",
   "execution_count": 11,
   "id": "7baad409-40fa-4019-9640-351e7ac62776",
   "metadata": {},
   "outputs": [],
   "source": [
    "for pl in webs_pl:\n",
    "    with open(pl, \"r\") as file:\n",
    "        file_idx_match = re.search(r'/(\\d+)-.*\\.html', file.name)\n",
    "        file_idx = int(file_idx_match.group(1))\n",
    "\n",
    "        file_content = file.read()\n",
    "        file_text = h2t.handle(file_content)\n",
    "        \n",
    "        file_tokens = get_tokens(file_text)\n",
    "\n",
    "        # print(any(token.text == \"анализе\" for token in file_tokens))\n",
    "        # print(sum(1 for token in file_tokens if token.text == \"Разбор\"))\n",
    "        \n",
    "        for token in file_tokens:\n",
    "            lemma = token.lemma_\n",
    "\n",
    "            # знакомая лемма - уже есть в списке detected лемм\n",
    "            if (lemma in lemmas_map.keys()):\n",
    "                if lemma not in index.keys():\n",
    "                    index[lemma] = InvertedIndexEntry(lemma)\n",
    "                #\n",
    "                index[lemma].add_file(file_idx)"
   ]
  },
  {
   "cell_type": "code",
   "execution_count": 12,
   "id": "9ddafca3-d356-4351-9885-eedcfb85db2d",
   "metadata": {},
   "outputs": [
    {
     "name": "stdout",
     "output_type": "stream",
     "text": [
      "InvertedIndexEntry(lemma = 'анализ', count = 68, files = [3, 4, 14, 15, 19, 25, 27, 31, 38, 56, 66, 82, 91, 102, 104, 109, 112, 113, 121, 122, 130, 150, 154, 171, 194])\n"
     ]
    }
   ],
   "source": [
    "print(index['анализ'])"
   ]
  },
  {
   "cell_type": "code",
   "execution_count": 15,
   "id": "a7811405-aafe-4df2-aba9-a71ed6ca608a",
   "metadata": {},
   "outputs": [],
   "source": [
    "# write to index file\n",
    "with open(index_output_file_name, \"w\") as f:\n",
    "    for index_entry in index.values():\n",
    "        sorted_files = sorted(index_entry.files)\n",
    "        f.write(f\"{index_entry.lemma}[{index_entry.count}] {' '.join(map(str, sorted_files))}\\n\")"
   ]
  },
  {
   "cell_type": "code",
   "execution_count": null,
   "id": "0c344320-8daf-4b80-a531-a81e64b7caff",
   "metadata": {},
   "outputs": [],
   "source": []
  }
 ],
 "metadata": {
  "kernelspec": {
   "display_name": "Python 3 (ipykernel)",
   "language": "python",
   "name": "python3"
  },
  "language_info": {
   "codemirror_mode": {
    "name": "ipython",
    "version": 3
   },
   "file_extension": ".py",
   "mimetype": "text/x-python",
   "name": "python",
   "nbconvert_exporter": "python",
   "pygments_lexer": "ipython3",
   "version": "3.9.6"
  }
 },
 "nbformat": 4,
 "nbformat_minor": 5
}
