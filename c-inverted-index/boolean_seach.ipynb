{
 "cells": [
  {
   "cell_type": "code",
   "execution_count": null,
   "id": "bafcf77f-4147-42bf-b79b-0fb9b1f03c8e",
   "metadata": {},
   "outputs": [],
   "source": []
  },
  {
   "cell_type": "code",
   "execution_count": 3,
   "id": "93ce0489-cd44-4d8e-94ef-982dbc5f56c5",
   "metadata": {},
   "outputs": [],
   "source": [
    "inv_index_file_name = \"ru_inverted_index.txt\"\n",
    "files_total_count = 195"
   ]
  },
  {
   "cell_type": "code",
   "execution_count": 4,
   "id": "95ebb823-4fde-44f3-b3b5-45aea0d78368",
   "metadata": {},
   "outputs": [],
   "source": [
    "all_files_set = set(range(1, files_total_count))\n",
    "all_files_set_var_name = \"all_files_set\""
   ]
  },
  {
   "cell_type": "code",
   "execution_count": 5,
   "id": "71d7a158-cca9-47b3-9867-c5bb6013ab8b",
   "metadata": {},
   "outputs": [],
   "source": [
    "class InvertedIndexEntry:\n",
    "    def __init__(self, lemma, count, files):\n",
    "        self.lemma = lemma\n",
    "        self.count = count\n",
    "        self.files = files\n",
    "    \n",
    "    def __repr__(self):\n",
    "        return f\"InvertedIndexEntry(lemma = '{self.lemma}', count = {self.count}, files = {sorted(self.files)})\""
   ]
  },
  {
   "cell_type": "code",
   "execution_count": 6,
   "id": "f3e98e50-ec38-4128-93e2-1808478d1b3d",
   "metadata": {},
   "outputs": [],
   "source": [
    "inv_index = dict()\n",
    "inv_index_var_name = \"inv_index\""
   ]
  },
  {
   "cell_type": "code",
   "execution_count": 7,
   "id": "045d1b68-0a80-42ca-993d-947cf5df7754",
   "metadata": {},
   "outputs": [],
   "source": [
    "import re\n",
    "\n",
    "with open(inv_index_file_name, 'r', encoding=\"utf-8\") as file:\n",
    "    lines = file.readlines()\n",
    "    for line in lines:\n",
    "        pattern = r'(\\w+)\\[(\\d+)\\]\\s+([\\w\\s]+)'\n",
    "        match = re.match(pattern, line)\n",
    "        \n",
    "        lemma = match.group(1)\n",
    "        count = int(match.group(2))\n",
    "        files = [int(num) for num in match.group(3).split(' ')]\n",
    "\n",
    "        inv_index_entry = InvertedIndexEntry(lemma, count, set(files))\n",
    "        \n",
    "        inv_index[lemma] = inv_index_entry"
   ]
  },
  {
   "cell_type": "code",
   "execution_count": 8,
   "id": "3d7b391f-1bbf-4425-ae47-4606bbaf7a64",
   "metadata": {},
   "outputs": [],
   "source": [
    "# порядок операций по важности \n",
    "# () ! & |\n",
    "CLOSING_BRACE = ')'\n",
    "OPENING_BRACE = '('\n",
    "\n",
    "OR_QEURY = '|'\n",
    "NOT_QEURY = '!'\n",
    "AND_QEURY = '&'\n",
    "\n",
    "OR_REPLACE = \").union(\"\n",
    "NOT_REPLACE = \").difference(\"\n",
    "AND_REPLACE = \").intersection(\""
   ]
  },
  {
   "cell_type": "code",
   "execution_count": 15,
   "id": "38744db5-1c99-4878-a2be-17a2a181e7c6",
   "metadata": {},
   "outputs": [],
   "source": [
    "\n",
    "\n",
    "def next_is_word(current_i, query_words):\n",
    "    next_i = current_i + 1\n",
    "    \n",
    "    if next_i == len(query_words):\n",
    "        return False\n",
    "        \n",
    "    next_word = query_words[next_i]\n",
    "\n",
    "    return not next_word in (OR_QEURY, NOT_QEURY, AND_QEURY, CLOSING_BRACE, OPENING_BRACE)\n",
    "\n",
    "def boolean_search(initial_query, inverted_index, debug=False):\n",
    "    initial_query = initial_query.replace(OPENING_BRACE, f\" {OPENING_BRACE} \").replace(CLOSING_BRACE, f\" {CLOSING_BRACE} \")\n",
    "    initial_query = initial_query.replace(OR_QEURY, f\" {OR_QEURY} \").replace(NOT_QEURY, f\" {NOT_QEURY} \").replace(AND_QEURY, f\" {AND_QEURY} \")\n",
    "    query_words = initial_query.strip().lower().split(' ')\n",
    "    query_words = list(filter(lambda x: x != \"\", query_words))\n",
    "\n",
    "    i = 0\n",
    "    query = OPENING_BRACE\n",
    "\n",
    "    if debug:\n",
    "        print(query_words)\n",
    "    \n",
    "    for word in query_words:\n",
    "        if word == '':\n",
    "            # skip\n",
    "            query = query\n",
    "        elif word == OPENING_BRACE:\n",
    "            query += OPENING_BRACE\n",
    "        elif word == CLOSING_BRACE:\n",
    "            query += CLOSING_BRACE\n",
    "        elif word == NOT_QEURY:\n",
    "            if next_is_word(i, query_words):\n",
    "                query += f'{all_files_set_var_name}.difference('\n",
    "            else:\n",
    "                query += NOT_REPLACE\n",
    "        elif word == AND_QEURY:\n",
    "            query += AND_REPLACE\n",
    "        elif word == OR_QEURY:\n",
    "            query += OR_REPLACE\n",
    "        else:\n",
    "            # замена слова в запросе с сетом файлов из инвертированного индекса\n",
    "            token = word\n",
    "            if debug:\n",
    "                print()\n",
    "                print(token)\n",
    "            if (token in inv_index.keys()):\n",
    "                if debug:\n",
    "                    print(sorted(eval(f'inv_index[\"{token}\"].files')))\n",
    "                query += f'{inv_index_var_name}[\"{token}\"].files'\n",
    "            else:\n",
    "                if debug:\n",
    "                    print(sorted(eval(f'set()')))\n",
    "                query += f'set()'\n",
    "        i += 1\n",
    "                \n",
    "    query += CLOSING_BRACE\n",
    "    \n",
    "    if debug:\n",
    "        print()\n",
    "        print(query)\n",
    "        print()\n",
    "\n",
    "    # йесссс юзаем eval()\n",
    "    result = eval(query)\n",
    "    return sorted(result)"
   ]
  },
  {
   "cell_type": "code",
   "execution_count": 16,
   "id": "01b7c728-6b9d-4030-8d38-3aab91e1a6dc",
   "metadata": {},
   "outputs": [
    {
     "name": "stdout",
     "output_type": "stream",
     "text": [
      "['анализ', '&', '(', 'делать', '|', 'чуткий', ')']\n",
      "\n",
      "анализ\n",
      "[3, 4, 14, 15, 19, 25, 27, 31, 38, 56, 66, 82, 91, 102, 104, 109, 112, 113, 121, 122, 130, 150, 154, 171, 194]\n",
      "\n",
      "делать\n",
      "[3, 4, 7, 10, 14, 18, 20, 22, 25, 26, 28, 31, 32, 33, 35, 36, 37, 39, 40, 47, 49, 50, 53, 56, 61, 67, 70, 74, 77, 85, 86, 88, 97, 98, 103, 104, 109, 111, 113, 116, 119, 121, 123, 125, 130, 132, 137, 147, 148, 154, 155, 158, 159, 160, 161, 162, 163, 164, 165, 167, 169, 170, 171, 173, 175, 176, 178, 183, 184, 185, 188, 191, 192, 193]\n",
      "\n",
      "чуткий\n",
      "[184]\n",
      "\n",
      "(inv_index[\"анализ\"].files).intersection((inv_index[\"делать\"].files).union(inv_index[\"чуткий\"].files))\n",
      "\n",
      "Search result = [3, 4, 14, 25, 31, 56, 104, 109, 113, 121, 130, 154, 171]\n"
     ]
    }
   ],
   "source": [
    "test_query = \"анализ & (делать | чуткий)\"\n",
    "result = boolean_search(test_query, inv_index, debug=True)\n",
    "print(f'Search result = {result}')"
   ]
  },
  {
   "cell_type": "code",
   "execution_count": 14,
   "id": "039ae844-17ae-4aee-b8aa-32396a7be214",
   "metadata": {},
   "outputs": [
    {
     "name": "stdout",
     "output_type": "stream",
     "text": [
      "['!', 'анализ', '&', '(', 'делать', '|', 'чуткий', ')']\n",
      "\n",
      "анализ\n",
      "[3, 4, 14, 15, 19, 25, 27, 31, 38, 56, 66, 82, 91, 102, 104, 109, 112, 113, 121, 122, 130, 150, 154, 171, 194]\n",
      "\n",
      "делать\n",
      "[3, 4, 7, 10, 14, 18, 20, 22, 25, 26, 28, 31, 32, 33, 35, 36, 37, 39, 40, 47, 49, 50, 53, 56, 61, 67, 70, 74, 77, 85, 86, 88, 97, 98, 103, 104, 109, 111, 113, 116, 119, 121, 123, 125, 130, 132, 137, 147, 148, 154, 155, 158, 159, 160, 161, 162, 163, 164, 165, 167, 169, 170, 171, 173, 175, 176, 178, 183, 184, 185, 188, 191, 192, 193]\n",
      "\n",
      "чуткий\n",
      "[184]\n",
      "\n",
      "(all_files_set.difference(inv_index[\"анализ\"].files).intersection((inv_index[\"делать\"].files).union(inv_index[\"чуткий\"].files)))\n",
      "\n",
      "Search result = [7, 10, 18, 20, 22, 26, 28, 32, 33, 35, 36, 37, 39, 40, 47, 49, 50, 53, 61, 67, 70, 74, 77, 85, 86, 88, 97, 98, 103, 111, 116, 119, 123, 125, 132, 137, 147, 148, 155, 158, 159, 160, 161, 162, 163, 164, 165, 167, 169, 170, 173, 175, 176, 178, 183, 184, 185, 188, 191, 192, 193]\n"
     ]
    }
   ],
   "source": [
    "test_query_2 = \"!анализ & (делать | чуткий)\"\n",
    "result_2 = boolean_search(test_query_2, inv_index, debug=True)\n",
    "print(f'Search result = {result_2}')"
   ]
  },
  {
   "cell_type": "code",
   "execution_count": null,
   "id": "5d8dd999-e1c9-4f2d-9703-4c686406adb4",
   "metadata": {},
   "outputs": [],
   "source": []
  },
  {
   "cell_type": "code",
   "execution_count": 17,
   "id": "5d6e1e1c-ea1b-4536-bfe0-35cf8d3f1aa6",
   "metadata": {},
   "outputs": [
    {
     "name": "stdout",
     "output_type": "stream",
     "text": [
      "Enter query. Supported special characters: '&', '|', '!', '(', ')'\n"
     ]
    },
    {
     "name": "stdin",
     "output_type": "stream",
     "text": [
      " анализ & (делать | чуткий)\n"
     ]
    },
    {
     "name": "stdout",
     "output_type": "stream",
     "text": [
      "Search result = [3, 4, 14, 25, 31, 56, 104, 109, 113, 121, 130, 154, 171]\n"
     ]
    }
   ],
   "source": [
    "print(\"Enter query. Supported special characters: '&', '|', '!', '(', ')'\")\n",
    "\n",
    "query = str(input())\n",
    "result = boolean_search(query, inv_index)\n",
    "print(f'Search result = {result}')"
   ]
  },
  {
   "cell_type": "code",
   "execution_count": null,
   "id": "3da4651a-83bd-473b-81ad-7bf4a808b3d7",
   "metadata": {},
   "outputs": [],
   "source": []
  }
 ],
 "metadata": {
  "kernelspec": {
   "display_name": "Python 3 (ipykernel)",
   "language": "python",
   "name": "python3"
  },
  "language_info": {
   "codemirror_mode": {
    "name": "ipython",
    "version": 3
   },
   "file_extension": ".py",
   "mimetype": "text/x-python",
   "name": "python",
   "nbconvert_exporter": "python",
   "pygments_lexer": "ipython3",
   "version": "3.9.6"
  }
 },
 "nbformat": 4,
 "nbformat_minor": 5
}
