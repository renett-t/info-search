{
 "cells": [
  {
   "cell_type": "code",
   "execution_count": 45,
   "id": "c5193cc2-304c-4e4e-b6f1-cd2f48ada5f5",
   "metadata": {},
   "outputs": [],
   "source": [
    "import os\n",
    "from typing import List\n",
    "from typing import Dict\n",
    "from glob import glob\n",
    "import numpy as np\n",
    "import res"
   ]
  },
  {
   "cell_type": "code",
   "execution_count": 46,
   "id": "9e6c8f54-3292-43f9-9590-083a7ce1058b",
   "metadata": {},
   "outputs": [],
   "source": [
    "RU_INDEX_FILE = \"./../a-crawling/crawling/crawling/spiders/pages/index.txt\"\n",
    "RU_LEMMAS_FILE = \"./../b-tokens/ru_lemmas.txt\"\n",
    "RU_LEMMAS_TF_IDF_FOLDER = \"./../d-tf-idf/ru-lemmas/\"\n"
   ]
  },
  {
   "cell_type": "code",
   "execution_count": 47,
   "id": "ced55b73-d07b-4aaf-8eac-d73bf6759259",
   "metadata": {},
   "outputs": [
    {
     "name": "stdout",
     "output_type": "stream",
     "text": [
      "Russian websites: 195\n"
     ]
    }
   ],
   "source": [
    "RU_WEBS_DIR = \"./../a-crawling/crawling/crawling/spiders/pages/ru\"\n",
    "ru_webs_pl = glob(f\"{RU_WEBS_DIR}/**.html\")\n",
    "\n",
    "print(f\"Russian websites: {len(ru_webs_pl)}\")"
   ]
  },
  {
   "cell_type": "code",
   "execution_count": 48,
   "id": "b7975415-0e70-4999-8060-f829b792ddfc",
   "metadata": {},
   "outputs": [],
   "source": [
    "# config\n",
    "\n",
    "# RU or EN\n",
    "lang = \"RU\" \n",
    "webs_pl = ru_webs_pl\n",
    "lemmas_file_name = RU_LEMMAS_FILE\n",
    "index_file_name = RU_INDEX_FILE\n",
    "tf_idf_folder = RU_LEMMAS_TF_IDF_FOLDER\n"
   ]
  },
  {
   "cell_type": "code",
   "execution_count": 49,
   "id": "4a2f7b90-b5d2-4e7d-91e6-c61078d68e68",
   "metadata": {},
   "outputs": [],
   "source": [
    "# key - web page id (believed to be int), pages[idx] - url for that web page\n",
    "pages = dict()\n",
    "\n",
    "# key - file (web page) id, file_lemmas[idx] - lemmas for file with given id\n",
    "page_lemmas = dict()\n",
    "\n",
    "# mapping of idxes \n",
    "# key - new value of page index (matching to the row in matrix), value - initial idx of file from {index_file_name}\n",
    "# why needed? 1) real idxes start from 1, 2) real idxes has 'windows' in values range\n",
    "idxs_mapping = dict()"
   ]
  },
  {
   "cell_type": "code",
   "execution_count": 50,
   "id": "acb99dca-acb6-4766-bf1c-1d5b7d00cf09",
   "metadata": {},
   "outputs": [
    {
     "name": "stdout",
     "output_type": "stream",
     "text": [
      "177\n"
     ]
    }
   ],
   "source": [
    "\n",
    "with open(index_file_name, 'r', encoding='utf-8') as file:\n",
    "    lines = file.readlines()\n",
    "    for line in lines:\n",
    "        index_enrty = line.split(',')\n",
    "\n",
    "        page_url = index_enrty[0]\n",
    "        page_lang = index_enrty[1].upper()\n",
    "        html_file_name = index_enrty[2]\n",
    "\n",
    "        file_idx_match = re.search(r'(\\d+)-.*\\.html$', html_file_name)\n",
    "        file_idx = int(file_idx_match.group(1))\n",
    "\n",
    "        # language filter\n",
    "        if (page_lang == lang):\n",
    "            pages[file_idx] = page_url\n",
    "\n",
    "print(len(pages))"
   ]
  },
  {
   "cell_type": "code",
   "execution_count": 51,
   "id": "c15f5cdb-7175-4f28-87d0-4fbaf3c9715f",
   "metadata": {},
   "outputs": [
    {
     "name": "stdout",
     "output_type": "stream",
     "text": [
      "177\n",
      "177\n"
     ]
    }
   ],
   "source": [
    "page_idxes = pages.keys()\n",
    "count = 0\n",
    "\n",
    "for page_idx in page_idxes:\n",
    "    idxs_mapping[count] = page_idx\n",
    "    count = count + 1\n",
    "    \n",
    "    with open(f\"{tf_idf_folder}{page_idx}.txt\", 'r', encoding='utf-8') as file:\n",
    "        lemmas = []\n",
    "        lines = file.readlines()\n",
    "        for line in lines:\n",
    "            tf_idf_entry = line.split(' ')\n",
    "            lemmas.append(tf_idf_entry[0])\n",
    "\n",
    "        page_lemmas[page_idx] = lemmas\n",
    "\n",
    "print(len(page_lemmas))\n",
    "print(len(idxs_mapping))"
   ]
  },
  {
   "cell_type": "code",
   "execution_count": 52,
   "id": "03ccb15e-d7c9-488e-8800-21fa09ed7428",
   "metadata": {},
   "outputs": [
    {
     "name": "stdout",
     "output_type": "stream",
     "text": [
      "10434\n"
     ]
    }
   ],
   "source": [
    "all_lemmas = set()\n",
    "\n",
    "for lemmas in page_lemmas.values():\n",
    "    all_lemmas.update(lemmas)\n",
    "\n",
    "# list of all existing lemmas\n",
    "all_lemmas = list(all_lemmas)\n",
    "print(len(all_lemmas))"
   ]
  },
  {
   "cell_type": "code",
   "execution_count": 61,
   "id": "8da31510-4e50-4642-975a-3fea16f3909c",
   "metadata": {},
   "outputs": [],
   "source": [
    "pages_count = len(idxs_mapping)\n",
    "lemmas_count = len(all_lemmas)\n",
    "\n",
    "# matrix\n",
    "# row num - page idx, row value - vector for page\n",
    "# column - lemma\n",
    "matrix = np.zeros((pages_count, lemmas_count))"
   ]
  },
  {
   "cell_type": "code",
   "execution_count": 62,
   "id": "f63a885a-ac17-4132-944a-1aee09ac6fac",
   "metadata": {},
   "outputs": [],
   "source": [
    "for i in range(0, pages_count):\n",
    "    # trash - нужно не запутаться где какой индекс взять\n",
    "    with open(f\"{tf_idf_folder}{idxs_mapping[i]}.txt\", 'r', encoding='utf-8') as file:\n",
    "        lines = file.readlines()\n",
    "        for line in lines:\n",
    "            lemma, _, tf_idf = line.split(' ')\n",
    "            if lemma in all_lemmas:\n",
    "                # column\n",
    "                lemma_index_in_matrix = all_lemmas.index(lemma)\n",
    "                matrix[i][lemma_index_in_matrix] = float(tf_idf)\n",
    "            else:\n",
    "                print(f\"Opps '{lemma}' not found in all_lemmas. matrix corrupted\")"
   ]
  },
  {
   "cell_type": "code",
   "execution_count": 66,
   "id": "74d7c7f1-9b37-4a39-99d5-1acf4c23a845",
   "metadata": {},
   "outputs": [
    {
     "data": {
      "text/plain": [
       "0.00034200550459030746"
      ]
     },
     "execution_count": 66,
     "metadata": {},
     "output_type": "execute_result"
    }
   ],
   "source": [
    "# test - значение tf_idf в файле для леммы\n",
    "lemma_column = all_lemmas.index(\"вопрос\")\n",
    "matrix[idxs_mapping[10]][1675]"
   ]
  },
  {
   "cell_type": "code",
   "execution_count": 105,
   "id": "d0914521-3382-459e-9d96-baf0eff001eb",
   "metadata": {},
   "outputs": [
    {
     "name": "stdout",
     "output_type": "stream",
     "text": [
      "156\n",
      "154\n"
     ]
    },
    {
     "data": {
      "text/plain": [
       "0.0"
      ]
     },
     "execution_count": 105,
     "metadata": {},
     "output_type": "execute_result"
    }
   ],
   "source": [
    "def find_key(dictionary, q_value):\n",
    "    for key, value in dictionary.items():\n",
    "        if value == q_value:\n",
    "            return key\n",
    "    return None  # If value not found in any keys\n",
    "\n",
    "## [('', 1),\n",
    "## ('https://taplink.cc/reztsovapolina', 1)]\n",
    "pagge1 = \"https://taplink.cc/reztsovapolina\"\n",
    "pagge2 = \"https://www.google.com/maps/search/Mayo+Clinic+MN/\"\n",
    "\n",
    "page_idx = find_key(pages, pagge1)\n",
    "print(page_idx)\n",
    "row_page_idx = find_key(idxs_mapping, page_idx)\n",
    "print(row_page_idx)\n",
    "\n",
    "page_vector = matrix[row_page_idx]\n",
    "sum(page_vector)"
   ]
  },
  {
   "cell_type": "code",
   "execution_count": 74,
   "id": "4a6144a6-86f3-4b14-bb7d-b747db6bfbea",
   "metadata": {},
   "outputs": [],
   "source": [
    "import spacy\n",
    "import spacy_transformers\n",
    "\n",
    "nlp_en = spacy.load(\"en_core_web_sm\")\n",
    "nlp_ru = spacy.load(\"ru_core_news_sm\")\n",
    "\n",
    "def get_tokens(text):\n",
    "    if (lang == \"RU\"):\n",
    "        doc = nlp_ru(text)\n",
    "    else:\n",
    "        doc = nlp_en(text)\n",
    "    \n",
    "    return [w for w in doc if (w.is_alpha and not w.is_stop)]\n",
    "\n",
    "def query_to_vector(query: str) -> np.ndarray:\n",
    "    vector = np.zeros(lemmas_count)\n",
    "    tokens = get_tokens(query)\n",
    "    #print(tokens)\n",
    "    for token in tokens:\n",
    "        lemma = token.lemma_\n",
    "        if lemma in all_lemmas:\n",
    "            lemma_index_in_matrix = all_lemmas.index(lemma)\n",
    "            vector[lemma_index_in_matrix] = 1\n",
    "            #print(lemma_index_in_matrix)\n",
    "\n",
    "    return vector"
   ]
  },
  {
   "cell_type": "code",
   "execution_count": 75,
   "id": "13de8dc9-c0fc-47db-a8ba-103113236570",
   "metadata": {},
   "outputs": [
    {
     "data": {
      "text/plain": [
       "1.0"
      ]
     },
     "execution_count": 75,
     "metadata": {},
     "output_type": "execute_result"
    }
   ],
   "source": [
    "vector = query_to_vector(\"вопрос подростков\")\n",
    "vector[1675]"
   ]
  },
  {
   "cell_type": "code",
   "execution_count": 79,
   "id": "0cf473a7-6eab-4260-a83a-efaaa5ad2b5e",
   "metadata": {},
   "outputs": [
    {
     "name": "stdout",
     "output_type": "stream",
     "text": [
      "Defaulting to user installation because normal site-packages is not writeable\n",
      "Collecting scipy\n",
      "  Downloading scipy-1.12.0-cp39-cp39-macosx_10_9_x86_64.whl.metadata (60 kB)\n",
      "\u001b[2K     \u001b[90m━━━━━━━━━━━━━━━━━━━━━━━━━━━━━━━━━━━━━━━\u001b[0m \u001b[32m60.4/60.4 kB\u001b[0m \u001b[31m527.9 kB/s\u001b[0m eta \u001b[36m0:00:00\u001b[0ma \u001b[36m0:00:01\u001b[0m\n",
      "\u001b[?25hRequirement already satisfied: numpy<1.29.0,>=1.22.4 in /Users/r.tyapkina/Library/Python/3.9/lib/python/site-packages (from scipy) (1.26.4)\n",
      "Downloading scipy-1.12.0-cp39-cp39-macosx_10_9_x86_64.whl (38.9 MB)\n",
      "\u001b[2K   \u001b[90m━━━━━━━━━━━━━━━━━━━━━━━━━━━━━━━━━━━━━━━━\u001b[0m \u001b[32m38.9/38.9 MB\u001b[0m \u001b[31m3.9 MB/s\u001b[0m eta \u001b[36m0:00:00\u001b[0m00:01\u001b[0m00:01\u001b[0m\n",
      "\u001b[?25hInstalling collected packages: scipy\n",
      "Successfully installed scipy-1.12.0\n"
     ]
    }
   ],
   "source": [
    "#!pip install scipy"
   ]
  },
  {
   "cell_type": "code",
   "execution_count": 107,
   "id": "cc8664d2-893d-41d1-b69a-c429c54b2187",
   "metadata": {},
   "outputs": [],
   "source": [
    "from scipy.spatial import distance as di\n",
    "\n",
    "# returns list of turples, sorted by distance\n",
    "# (url, distance)\n",
    "def search(query: str) -> List:\n",
    "    query_vector = query_to_vector(query)\n",
    "    relevant_pages = dict()\n",
    "    \n",
    "    for page_row_idx, page_vector in enumerate(matrix):\n",
    "        # cosine similarity between 2 vectors\n",
    "        # https://medium.com/@milana.shxanukova15/cosine-distance-and-cosine-similarity-a5da0e4d9ded\n",
    "        if (sum(page_vector) > 0):\n",
    "            distance = 1 - di.cosine(query_vector, page_vector)\n",
    "            if distance > 0:\n",
    "                relevant_pages[page_row_idx] = distance\n",
    "\n",
    "    # sort by distance\n",
    "    relevant_pages_sorted = sorted(relevant_pages.items(), key=lambda item: item[1], reverse=True)\n",
    "\n",
    "    # file idx - initial url\n",
    "    search_result = [(pages[idxs_mapping[idx_to_distance[0]]], idx_to_distance[1]) \n",
    "                     for idx_to_distance in relevant_pages_sorted]\n",
    "\n",
    "    return search_result"
   ]
  },
  {
   "cell_type": "code",
   "execution_count": 108,
   "id": "e0411a02-f8c2-4071-857f-1ec0cee6133c",
   "metadata": {
    "scrolled": true
   },
   "outputs": [
    {
     "data": {
      "text/plain": [
       "[('https://cuprum.media/stesnyayus-sprosit/soft-case', 0.11548489418306751),\n",
       " ('https://cuprum.media/spravochnik/obsledovanie-shitovidnoj-zhelezy',\n",
       "  0.07995052320816654),\n",
       " ('https://cuprum.media/spravochnik/f-mrt', 0.04356624800386455),\n",
       " ('https://cuprum.media/spravochnik/f-mrt', 0.04356624800386455),\n",
       " ('https://cuprum.media/spravochnik', 0.03457543973694999),\n",
       " ('https://cuprum.media/lifestyle/you-are-beautiful?si=630c8755a605d5d5910f46e4',\n",
       "  0.02604130777551772),\n",
       " ('https://cuprum.media/columns/nizkouglevodnye-diety', 0.02125812944041472)]"
      ]
     },
     "execution_count": 108,
     "metadata": {},
     "output_type": "execute_result"
    }
   ],
   "source": [
    "res = search(\"запор\")\n",
    "\n",
    "res"
   ]
  },
  {
   "cell_type": "code",
   "execution_count": null,
   "id": "ff8ed8e3-6c7c-4fef-9346-09d5562f9878",
   "metadata": {},
   "outputs": [],
   "source": []
  },
  {
   "cell_type": "code",
   "execution_count": null,
   "id": "f39e5ae8-1b25-4853-8979-c7c0170c0d7f",
   "metadata": {},
   "outputs": [],
   "source": [
    "class VectorSearch:\n",
    "    def __init__(self):\n",
    "\n",
    "        \n",
    "    def search(self, query: str) -> List:\n",
    "        query_vector = "
   ]
  }
 ],
 "metadata": {
  "kernelspec": {
   "display_name": "Python 3 (ipykernel)",
   "language": "python",
   "name": "python3"
  },
  "language_info": {
   "codemirror_mode": {
    "name": "ipython",
    "version": 3
   },
   "file_extension": ".py",
   "mimetype": "text/x-python",
   "name": "python",
   "nbconvert_exporter": "python",
   "pygments_lexer": "ipython3",
   "version": "3.9.6"
  }
 },
 "nbformat": 4,
 "nbformat_minor": 5
}
